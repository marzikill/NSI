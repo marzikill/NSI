{
 "cells": [
  {
   "cell_type": "code",
   "execution_count": 1,
   "metadata": {},
   "outputs": [
    {
     "name": "stdout",
     "output_type": "stream",
     "text": [
      "il faut faire le plein a la station-service no  2\n",
      "il faut faire le plein a la station-service no  5\n",
      "il faut faire le plein a la station-service no  7\n",
      "il faut faire le plein a la station-service no  10\n",
      "il faut faire le plein a la station-service no  12\n",
      "il faut faire le plein a la station-service no  14\n",
      "il faut faire le plein a la station-service no  16\n"
     ]
    }
   ],
   "source": [
    "# ou faire le plein ?\n",
    "# d : distances entre les stations-service\n",
    "# r : distance que l'on peut parcourir au maximum\n",
    "\n",
    "d = [23, 40, 12, 44, 21, 9, 67, 32, 51, 30, 11, 55, 24, 64, 32, 57, 12, 80]\n",
    "r = 100\n",
    "\n",
    "def rapide(d,r) :\n",
    "    i=0\n",
    "    dmax=r\n",
    "    while i<len(d):\n",
    "        dmax=dmax-d[i]\n",
    "        if dmax<0:\n",
    "            i-=1\n",
    "            print(\"il faut faire le plein a la station-service no \",i)\n",
    "            dmax=r\n",
    "        i+=1\n",
    "\n",
    "rapide(d,r)\n"
   ]
  },
  {
   "cell_type": "code",
   "execution_count": null,
   "metadata": {},
   "outputs": [],
   "source": []
  }
 ],
 "metadata": {
  "kernelspec": {
   "display_name": "Python 3",
   "language": "python",
   "name": "python3"
  },
  "language_info": {
   "codemirror_mode": {
    "name": "ipython",
    "version": 3
   },
   "file_extension": ".py",
   "mimetype": "text/x-python",
   "name": "python",
   "nbconvert_exporter": "python",
   "pygments_lexer": "ipython3",
   "version": "3.7.3"
  }
 },
 "nbformat": 4,
 "nbformat_minor": 2
}
