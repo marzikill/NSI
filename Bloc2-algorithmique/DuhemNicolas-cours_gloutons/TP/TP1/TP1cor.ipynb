{
 "cells": [
  {
   "cell_type": "markdown",
   "metadata": {},
   "source": [
    "# Correction du TP 1"
   ]
  },
  {
   "cell_type": "markdown",
   "metadata": {},
   "source": [
    "# Partie I"
   ]
  },
  {
   "cell_type": "markdown",
   "metadata": {},
   "source": [
    "## question 1"
   ]
  },
  {
   "cell_type": "code",
   "execution_count": 1,
   "metadata": {},
   "outputs": [
    {
     "data": {
      "text/plain": [
       "[200, 100, 50, 20, 10, 5, 2, 1]"
      ]
     },
     "execution_count": 1,
     "metadata": {},
     "output_type": "execute_result"
    }
   ],
   "source": [
    "#définition de la caisse\n",
    "caisse=[200,100,50,20,10,5,2,1]\n",
    "caisse"
   ]
  },
  {
   "cell_type": "markdown",
   "metadata": {},
   "source": [
    "## question 2"
   ]
  },
  {
   "cell_type": "code",
   "execution_count": 2,
   "metadata": {},
   "outputs": [],
   "source": [
    "def rendmonnaie(s,c):\n",
    "    n=len(c)\n",
    "    rendu=len(c)*[0]\n",
    "    somme_a_rendre=s*100\n",
    "    i=0\n",
    "    while somme_a_rendre>0 and i<=n-1:\n",
    "        while somme_a_rendre>=c[i] :\n",
    "            somme_a_rendre=somme_a_rendre-c[i]\n",
    "            rendu[i]=rendu[i]+1\n",
    "        i=i+1\n",
    "    return rendu"
   ]
  },
  {
   "cell_type": "markdown",
   "metadata": {},
   "source": [
    "Tests"
   ]
  },
  {
   "cell_type": "code",
   "execution_count": 3,
   "metadata": {},
   "outputs": [
    {
     "data": {
      "text/plain": [
       "[1, 0, 0, 1, 1, 0, 2, 0]"
      ]
     },
     "execution_count": 3,
     "metadata": {},
     "output_type": "execute_result"
    }
   ],
   "source": [
    "rendmonnaie(2.34,caisse)"
   ]
  },
  {
   "cell_type": "code",
   "execution_count": 4,
   "metadata": {},
   "outputs": [
    {
     "data": {
      "text/plain": [
       "[2, 1, 1, 1, 0, 0, 0, 1]"
      ]
     },
     "execution_count": 4,
     "metadata": {},
     "output_type": "execute_result"
    }
   ],
   "source": [
    "rendmonnaie(5.71,caisse)"
   ]
  },
  {
   "cell_type": "code",
   "execution_count": 5,
   "metadata": {},
   "outputs": [],
   "source": [
    "#autre version\n",
    "def rendmonnaiebis(s,c):\n",
    "    n=len(c)\n",
    "    rendu=len(c)*[0]\n",
    "    somme_a_rendre=s*100\n",
    "    i=0\n",
    "    while somme_a_rendre>0 and i<=n-1:\n",
    "        if somme_a_rendre>=c[i] :\n",
    "            rendu[i]=int(somme_a_rendre//c[i])\n",
    "            somme_a_rendre=somme_a_rendre%c[i]\n",
    "        i=i+1\n",
    "    return rendu"
   ]
  },
  {
   "cell_type": "markdown",
   "metadata": {},
   "source": [
    "Tests"
   ]
  },
  {
   "cell_type": "code",
   "execution_count": 6,
   "metadata": {},
   "outputs": [
    {
     "data": {
      "text/plain": [
       "[1, 0, 0, 1, 1, 0, 2, 0]"
      ]
     },
     "execution_count": 6,
     "metadata": {},
     "output_type": "execute_result"
    }
   ],
   "source": [
    "rendmonnaiebis(2.34,caisse)"
   ]
  },
  {
   "cell_type": "code",
   "execution_count": 7,
   "metadata": {},
   "outputs": [
    {
     "data": {
      "text/plain": [
       "[2, 1, 1, 1, 0, 0, 0, 1]"
      ]
     },
     "execution_count": 7,
     "metadata": {},
     "output_type": "execute_result"
    }
   ],
   "source": [
    "rendmonnaiebis(5.71,caisse)"
   ]
  },
  {
   "cell_type": "markdown",
   "metadata": {},
   "source": [
    "# Partie II"
   ]
  },
  {
   "cell_type": "code",
   "execution_count": 8,
   "metadata": {},
   "outputs": [],
   "source": [
    "def rendmonnaie2(s,c):\n",
    "    n=len(c)\n",
    "    rendu=[[c[i],0] for i in range(len(c))]\n",
    "    somme_a_rendre=s*100\n",
    "    i=0\n",
    "    while somme_a_rendre>0 and i<=n-1:\n",
    "        while somme_a_rendre>=c[i] :\n",
    "            somme_a_rendre=somme_a_rendre-c[i]\n",
    "            rendu[i][1]=rendu[i][1]+1       \n",
    "        i=i+1\n",
    "    return rendu"
   ]
  },
  {
   "cell_type": "markdown",
   "metadata": {},
   "source": [
    "Tests"
   ]
  },
  {
   "cell_type": "code",
   "execution_count": 9,
   "metadata": {},
   "outputs": [
    {
     "data": {
      "text/plain": [
       "[[200, 1], [100, 0], [50, 0], [20, 1], [10, 1], [5, 0], [2, 2], [1, 0]]"
      ]
     },
     "execution_count": 9,
     "metadata": {},
     "output_type": "execute_result"
    }
   ],
   "source": [
    "rendmonnaie2(2.34,caisse)"
   ]
  },
  {
   "cell_type": "code",
   "execution_count": 10,
   "metadata": {},
   "outputs": [
    {
     "data": {
      "text/plain": [
       "[[200, 2], [100, 1], [50, 1], [20, 1], [10, 0], [5, 0], [2, 0], [1, 1]]"
      ]
     },
     "execution_count": 10,
     "metadata": {},
     "output_type": "execute_result"
    }
   ],
   "source": [
    "rendmonnaie2(5.71,caisse)"
   ]
  },
  {
   "cell_type": "code",
   "execution_count": 11,
   "metadata": {},
   "outputs": [],
   "source": [
    "#version bis\n",
    "def rendmonnaie2bis(s,c):\n",
    "    n=len(c)\n",
    "    rendu=[[c[i],0] for i in range(len(c))]\n",
    "    somme_a_rendre=s*100\n",
    "    i=0\n",
    "    while somme_a_rendre>0 and i<=n-1:\n",
    "        if somme_a_rendre>=c[i] :\n",
    "            rendu[i][1]=int(somme_a_rendre//c[i])\n",
    "            somme_a_rendre=somme_a_rendre%c[i]\n",
    "        i=i+1\n",
    "    return rendu\n"
   ]
  },
  {
   "cell_type": "code",
   "execution_count": 12,
   "metadata": {},
   "outputs": [
    {
     "data": {
      "text/plain": [
       "[[200, 1], [100, 0], [50, 0], [20, 1], [10, 1], [5, 0], [2, 2], [1, 0]]"
      ]
     },
     "execution_count": 12,
     "metadata": {},
     "output_type": "execute_result"
    }
   ],
   "source": [
    "rendmonnaie2bis(2.34,caisse)\n"
   ]
  },
  {
   "cell_type": "code",
   "execution_count": 13,
   "metadata": {},
   "outputs": [
    {
     "data": {
      "text/plain": [
       "[[200, 2], [100, 1], [50, 1], [20, 1], [10, 0], [5, 0], [2, 0], [1, 1]]"
      ]
     },
     "execution_count": 13,
     "metadata": {},
     "output_type": "execute_result"
    }
   ],
   "source": [
    "rendmonnaie2bis(5.71,caisse)"
   ]
  },
  {
   "cell_type": "markdown",
   "metadata": {},
   "source": [
    "# Partie III"
   ]
  },
  {
   "cell_type": "markdown",
   "metadata": {},
   "source": [
    "## question 1"
   ]
  },
  {
   "cell_type": "code",
   "execution_count": 14,
   "metadata": {},
   "outputs": [
    {
     "data": {
      "text/plain": [
       "{200: 0, 100: 2, 50: 4, 20: 1, 10: 4, 5: 0, 2: 4, 1: 0}"
      ]
     },
     "execution_count": 14,
     "metadata": {},
     "output_type": "execute_result"
    }
   ],
   "source": [
    "import random\n",
    "#Création d'un dictionnaire contenant une quantité aléatoire de pièce\n",
    "caisse2={caisse[i] : random.randint(0,5)  for i in range(len(caisse))}\n",
    "caisse2"
   ]
  },
  {
   "cell_type": "markdown",
   "metadata": {},
   "source": [
    "## Question 2"
   ]
  },
  {
   "cell_type": "code",
   "execution_count": 15,
   "metadata": {},
   "outputs": [],
   "source": [
    "#Version avec dictionnaire et contrôle de la quantité de pièces disponible\n",
    "def rendmonnaie3(s,d):\n",
    "    somme_a_rendre=s*100\n",
    "    rendu={i:0 for i in d}\n",
    "    for i in caisse:\n",
    "        while somme_a_rendre>=i and caisse2[i]>0:\n",
    "            somme_a_rendre=somme_a_rendre-i\n",
    "            rendu[i]=rendu[i]+1\n",
    "            caisse2[i]=caisse2[i]-1\n",
    "    if somme_a_rendre>0:\n",
    "           return print(\"il n'y a plus assez de monnaie\")\n",
    "    else :\n",
    "        return rendu\n"
   ]
  },
  {
   "cell_type": "markdown",
   "metadata": {},
   "source": [
    "Remarque : pour le moment, cette partie est codée avec une boucle pour car il y a de très grandes chances que ce soit la solution choisie par les élèves. En effet le recours au dictionnaire rend l'utilisation de la boucle while plus complexe.<br>\n",
    "On pourra pour les élèves plus rapides et donc les plus à l'aise leur demander d'y réflechir."
   ]
  },
  {
   "cell_type": "markdown",
   "metadata": {},
   "source": [
    "Tests "
   ]
  },
  {
   "cell_type": "code",
   "execution_count": 16,
   "metadata": {},
   "outputs": [
    {
     "name": "stdout",
     "output_type": "stream",
     "text": [
      "caisse à notre disposition : {200: 0, 100: 2, 50: 4, 20: 1, 10: 4, 5: 0, 2: 4, 1: 0}\n",
      "rendu :  {200: 0, 100: 2, 50: 0, 20: 1, 10: 1, 5: 0, 2: 2, 1: 0}\n"
     ]
    }
   ],
   "source": [
    "print(\"caisse à notre disposition :\",caisse2)\n",
    "print(\"rendu : \",rendmonnaie3(2.34,caisse2))"
   ]
  },
  {
   "cell_type": "code",
   "execution_count": 17,
   "metadata": {},
   "outputs": [
    {
     "name": "stdout",
     "output_type": "stream",
     "text": [
      "caisse à notre disposition : {200: 0, 100: 0, 50: 4, 20: 0, 10: 3, 5: 0, 2: 2, 1: 0}\n",
      "il n'y a plus assez de monnaie\n",
      "rendu : None\n"
     ]
    }
   ],
   "source": [
    "print(\"caisse à notre disposition :\",caisse2)\n",
    "print(\"rendu :\",rendmonnaie3(4.54,caisse2))"
   ]
  },
  {
   "cell_type": "code",
   "execution_count": null,
   "metadata": {},
   "outputs": [],
   "source": []
  }
 ],
 "metadata": {
  "kernelspec": {
   "display_name": "Python 3",
   "language": "python",
   "name": "python3"
  },
  "language_info": {
   "codemirror_mode": {
    "name": "ipython",
    "version": 3
   },
   "file_extension": ".py",
   "mimetype": "text/x-python",
   "name": "python",
   "nbconvert_exporter": "python",
   "pygments_lexer": "ipython3",
   "version": "3.7.3"
  }
 },
 "nbformat": 4,
 "nbformat_minor": 2
}
