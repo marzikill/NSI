{
 "cells": [
  {
   "cell_type": "markdown",
   "metadata": {},
   "source": [
    "### EXERCICE 1###"
   ]
  },
  {
   "cell_type": "code",
   "execution_count": 3,
   "metadata": {},
   "outputs": [],
   "source": [
    "## -*- coding: utf-8 -*-\n",
    "################################################################################\n",
    "\n",
    "\n",
    "#Tests possibles:\n",
    "#D1 = { 'Aude': 'Paris', 'Patrice': 'Rennes', 'Sophie': 'Lyon' }\n",
    "#clear(D1)\n",
    "\n",
    "#d=copy(D1)\n",
    "#print(D1)\n",
    "#print(d)\n",
    "#D1['Aude']='Strasbourg'\n",
    "#print(D1)\n",
    "#print(d)\n",
    "\n",
    "#print(get(D1,'Aude'))\n",
    "#print(get(D1,'Tom'))\n",
    "#print(get(D1,'Tom','Cl?? absente'))\n",
    "\n",
    "#D1 = [ ('Aude', 'Paris'), ('Patrice', 'Rennes'), ('Sophie', 'Lyon') ]\n",
    "#print(dict_(D1))\n",
    "#############################################################################\n",
    "\n",
    "\n",
    "### Fonction qui efface toutes les cl??s et retourne le dictionnaire vide###\n",
    "def clear(d):\n",
    "    '''Fonction qui efface toutes les cl??s du dictionnaire d'''\n",
    "    for k in list(d):\n",
    "        del d[k]\n",
    "    return d\n",
    "\n",
    "### Fonction qui copie toutes les cl??s et retourne un autre dictionnaire ###\n",
    "def copy(d):\n",
    "    d_copy={}\n",
    "    '''Fonction qui copie toutes les cl??s du dictionnaire d'''\n",
    "    for k in list(d):\n",
    "        d_copy[k]=d[k]\n",
    "    return d_copy\n",
    "\n",
    "### Fonction qui teste la pr??sence d'une cl?? et retourne renvoie default en cas d'absence ###\n",
    "def get(d,cle,default = None):\n",
    "    '''Fonction qui copie imite la m??thode .get() du dictionnaire d'''\n",
    "    if cle in d:\n",
    "        return d[cle]\n",
    "    return default\n",
    "\n",
    "### Fonction qui g??n??re un dictionnaire ?? partir d'une liste de 2-uplets ###\n",
    "def dict_(t):\n",
    "    '''Fonction qui g??n??re un dictionnaire ?? partir d'une liste de 2-uplets'''\n",
    "    d={}\n",
    "    for e in t:\n",
    "        d[e[0]]=e[1]\n",
    "    return d"
   ]
  },
  {
   "cell_type": "markdown",
   "metadata": {},
   "source": [
    "### EXERCICE 2###"
   ]
  },
  {
   "cell_type": "code",
   "execution_count": 6,
   "metadata": {},
   "outputs": [
    {
     "name": "stdout",
     "output_type": "stream",
     "text": [
      "0678735166\n"
     ]
    }
   ],
   "source": [
    "#La fonction gen n'est pas codée par les élèves\n",
    "def gen(n=1000):#par défaut on lit 1000 lignes\n",
    "    '''Fonction qui génére et retourne une liste de tuples (prenom, n°TEL)\n",
    "     à partir du fichier Prenoms.txt fourni'''\n",
    "    assert n<=10000#on ne dépasse pas 10000 lignes\n",
    "    tab=[]\n",
    "    with open('Prenoms.txt' ,'r') as f:\n",
    "        for i,ligne in enumerate(f):\n",
    "            num=''\n",
    "            l=ligne.split()\n",
    "            if i<n:#les x premieres lignes\n",
    "                for mot in l[1:]:#on ne récupère pas le nom\n",
    "                    num+=mot\n",
    "            else:\n",
    "                break\n",
    "            num='0'+num#on ajoute un 0 en tête\n",
    "            tab.append((l[0],num))\n",
    "    f.close()\n",
    "    return tab\n",
    "\n",
    "annuairetableau=gen(10000)#on change la taille du tableau ici\n",
    "\n",
    "#QUESTION 1:\n",
    "def recherche1(p,t):\n",
    "    for i in range(len(t)):\n",
    "        if p==t[i][0]:\n",
    "            return t[i][1]\n",
    "    return None\n",
    "print(recherche1('aapo',annuairetableau))"
   ]
  },
  {
   "cell_type": "code",
   "execution_count": 7,
   "metadata": {},
   "outputs": [],
   "source": [
    "#QUESTION 2:\n",
    "#on génère le dictionnaire avec notre fonction\n",
    "annuairedico=dict_(annuairetableau)\n",
    "#on génère le dictionnaire le constructeur de python\n",
    "annuairedico=dict(annuairetableau)\n",
    "#Résultats pour n=5\n",
    "#{'aaliyah': '0516438897',\n",
    "#'aapeli': '0177739542',\n",
    "# 'aapo': '0678735166',\n",
    "# 'aaren': '0746881696',\n",
    "# 'aarne': '0574179969'}"
   ]
  },
  {
   "cell_type": "code",
   "execution_count": 7,
   "metadata": {},
   "outputs": [
    {
     "name": "stdout",
     "output_type": "stream",
     "text": [
      "None\n"
     ]
    }
   ],
   "source": [
    "#QUESTION 3:\n",
    "def recherche2(p,d):\n",
    "    return d.get(p,None)\n",
    "print(recherche2('aapi',annuairedico))"
   ]
  },
  {
   "cell_type": "code",
   "execution_count": 9,
   "metadata": {},
   "outputs": [
    {
     "name": "stdout",
     "output_type": "stream",
     "text": [
      "Recherche Tableau:  6.481899998789231e-05  Recherche Dico:  3.1352000007700553e-05\n"
     ]
    }
   ],
   "source": [
    "#QUESTION 4:\n",
    "from time import perf_counter\n",
    "#recherche d'un prénom en début de tableau n=10000\n",
    "ti=perf_counter()\n",
    "recherche1('aapo',annuairetableau)\n",
    "tf=perf_counter()\n",
    "t1=tf-ti\n",
    "ti=perf_counter()\n",
    "recherche2('aapo',annuairedico)\n",
    "tf=perf_counter()\n",
    "t2=tf-ti\n",
    "print('Recherche Tableau: ',t1,' Recherche Dico: ',t2)"
   ]
  },
  {
   "cell_type": "code",
   "execution_count": 18,
   "metadata": {},
   "outputs": [
    {
     "name": "stdout",
     "output_type": "stream",
     "text": [
      "Recherche Tableau:  0.0005222359999947912  Recherche Dico:  3.218599999854632e-05\n"
     ]
    }
   ],
   "source": [
    "#recherche d'un prénom en milieu de tableau n=10000\n",
    "ti=perf_counter()\n",
    "recherche1('gordon',annuairetableau)\n",
    "tf=perf_counter()\n",
    "t1=tf-ti\n",
    "ti=perf_counter()\n",
    "recherche2('gordon',annuairedico)\n",
    "tf=perf_counter()\n",
    "t2=tf-ti\n",
    "print('Recherche Tableau: ',t1,' Recherche Dico: ',t2)"
   ]
  },
  {
   "cell_type": "code",
   "execution_count": 19,
   "metadata": {},
   "outputs": [
    {
     "name": "stdout",
     "output_type": "stream",
     "text": [
      "Recherche Tableau:  0.00141653899999028  Recherche Dico:  3.762199997936477e-05\n"
     ]
    }
   ],
   "source": [
    "#recherche d'un prénom en fin de tableau n=10000\n",
    "ti=perf_counter()\n",
    "recherche1('zvi',annuairetableau)\n",
    "tf=perf_counter()\n",
    "t1=tf-ti\n",
    "ti=perf_counter()\n",
    "recherche2('zvi',annuairedico)\n",
    "tf=perf_counter()\n",
    "t2=tf-ti\n",
    "print('Recherche Tableau: ',t1,' Recherche Dico: ',t2)"
   ]
  },
  {
   "cell_type": "markdown",
   "metadata": {},
   "source": [
    "<span style=\"color:red\">\n",
    "La durée d'éxécution pour la recherche en dico est \"constante\" et de l'ordre de 1e-5 s. Ceci est cohérent avec une complexité théorique O(1)<br>\n",
    "La durée d'éxécution pour la recherche en tableau croit avec la position de la séquence.\n",
    "Ceci est cohérent avec une complexité théorique O(n)\n",
    "</span>"
   ]
  },
  {
   "cell_type": "markdown",
   "metadata": {},
   "source": [
    "### EXERCICE 3###"
   ]
  },
  {
   "cell_type": "code",
   "execution_count": 21,
   "metadata": {},
   "outputs": [
    {
     "name": "stdout",
     "output_type": "stream",
     "text": [
      "liste des auteurs de la base : ['Victor Hugo', 'Robert Merle', 'Alain Fournier', 'Victor Hugo', 'Victor Hugo', 'J.K. Rowling', 'J.K. Rowling']\n"
     ]
    }
   ],
   "source": [
    "stock={\n",
    "9788806222093:{'auteur':'Victor Hugo','titre':\"Les misérables\",'nombre':5},\n",
    "9780671201821:{'auteur':'Robert Merle','titre':'Un animal doué de raison','nombre':6},\n",
    "9783518399989:{'auteur':'Alain Fournier','titre':'Le grand Meaulnes','nombre':1},\n",
    "9782072864537:{'auteur':'Victor Hugo','titre':'Notre dame de Paris','nombre':4},\n",
    "9781976166471:{'auteur':'Victor Hugo','titre':'Notre dame de Paris','nombre':3},\n",
    "9782070518425: {'auteur':'J.K. Rowling','titre':\"Harry Potter à l'école des sorciers\",'nombre':3},\n",
    "9782070643059: {'auteur':'J.K. Rowling','titre':\"Harry Potter et la coupe de feu\",'nombre':0}\n",
    "}\n",
    "\n",
    "#QUESTION 1:\n",
    "def auteurs(b):\n",
    "    #cette fonction affiche plusieurs fois Victor Hugo... On peut donc optimiser\n",
    "    liste=[]\n",
    "    for cle in b:\n",
    "        liste.append(b[cle]['auteur'])\n",
    "    return liste\n",
    "print(\"liste des auteurs de la base :\",auteurs(stock))"
   ]
  },
  {
   "cell_type": "code",
   "execution_count": 22,
   "metadata": {},
   "outputs": [
    {
     "name": "stdout",
     "output_type": "stream",
     "text": [
      "liste des auteurs de la base : ['Victor Hugo', 'Robert Merle', 'Alain Fournier', 'J.K. Rowling']\n"
     ]
    }
   ],
   "source": [
    "def auteursv2(b):\n",
    "    liste=[]\n",
    "    for cle in b:\n",
    "        if b[cle]['auteur'] not in liste:\n",
    "            liste.append(b[cle]['auteur'])\n",
    "    return liste\n",
    "print(\"liste des auteurs de la base :\",auteursv2(stock))"
   ]
  },
  {
   "cell_type": "code",
   "execution_count": 23,
   "metadata": {},
   "outputs": [
    {
     "name": "stdout",
     "output_type": "stream",
     "text": [
      "liste des auteurs de la base : ['Victor Hugo', 'Robert Merle', 'Alain Fournier', 'Victor Hugo', 'Victor Hugo', 'J.K. Rowling', 'J.K. Rowling']\n"
     ]
    }
   ],
   "source": [
    "def auteursv3(b):\n",
    "    return [b[k]['auteur'] for k in b]\n",
    "print(\"liste des auteurs de la base :\",auteursv3(stock))"
   ]
  },
  {
   "cell_type": "code",
   "execution_count": 25,
   "metadata": {},
   "outputs": [
    {
     "name": "stdout",
     "output_type": "stream",
     "text": [
      "liste des auteurs de la base : ['Victor Hugo', 'Robert Merle', 'Alain Fournier', 'J.K. Rowling']\n"
     ]
    }
   ],
   "source": [
    "#Compréhension sans doublons\n",
    "#On crée un dictionnaire avec les auteurs en clés (pas de doublons!) et None en valeur\n",
    "#On récupère les clés avec la méthode keys()\n",
    "#On construit une liste avec list()\n",
    "def auteursv4(b):\n",
    "    return list({v['auteur']:None for v in b.values()}.keys())\n",
    "print(\"liste des auteurs de la base :\",auteursv4(stock))"
   ]
  },
  {
   "cell_type": "code",
   "execution_count": 26,
   "metadata": {},
   "outputs": [
    {
     "name": "stdout",
     "output_type": "stream",
     "text": [
      "liste des titres empruntables : ['Les misérables', 'Un animal doué de raison', 'Le grand Meaulnes', 'Notre dame de Paris', \"Harry Potter à l'école des sorciers\"]\n"
     ]
    }
   ],
   "source": [
    "#QUESTION 2:\n",
    "def livresempruntables(b):\n",
    "    liste=[]\n",
    "    for cle in b:\n",
    "        if b[cle]['nombre'] > 0 and ( b[cle]['titre'] not in liste):\n",
    "            liste.append(b[cle]['titre'])\n",
    "    return liste\n",
    "print(\"liste des titres empruntables :\",livresempruntables(stock))"
   ]
  },
  {
   "cell_type": "code",
   "execution_count": 28,
   "metadata": {},
   "outputs": [
    {
     "name": "stdout",
     "output_type": "stream",
     "text": [
      "liste des titres auteurs : {'Les misérables': 5, 'Un animal doué de raison': 6, 'Le grand Meaulnes': 1, 'Notre dame de Paris': 7, \"Harry Potter à l'école des sorciers\": 3, 'Harry Potter et la coupe de feu': 0}\n"
     ]
    }
   ],
   "source": [
    "#QUESTION 3:\n",
    "def titres_auteurs1(b):\n",
    "    dic={}\n",
    "    for cle in b:\n",
    "        if b[cle]['titre'] not in dic :\n",
    "            dic [b[cle]['titre']] =b[cle]['nombre']\n",
    "        else :\n",
    "            n1=dic [b[cle]['titre']]\n",
    "            n2=b[cle]['nombre']\n",
    "            dic [b[cle]['titre']]=n1+n2\n",
    "\n",
    "    return dic\n",
    "print(\"liste des titres auteurs :\",titres_auteurs1(stock))"
   ]
  },
  {
   "cell_type": "code",
   "execution_count": 30,
   "metadata": {},
   "outputs": [
    {
     "name": "stdout",
     "output_type": "stream",
     "text": [
      "liste des titres auteurs : {'Les misérables': 5, 'Notre dame de Paris': 7}\n"
     ]
    }
   ],
   "source": [
    "#Par compréhension avec choix de l'auteur\n",
    "def titres_auteurs2(b,n):\n",
    "    l=[(b[c]['titre'],b[c]['nombre']) for c in b.keys() if b[c]['auteur']==n]\n",
    "    d={}\n",
    "    for elt in l:\n",
    "        d[elt[0]]=d.get(elt[0],0)+elt[1]#si le titre n'existe pas on 0+elt[1]\n",
    "    return d\n",
    "print(\"liste des titres auteurs :\",titres_auteurs2(stock,'Victor Hugo'))"
   ]
  },
  {
   "cell_type": "code",
   "execution_count": 31,
   "metadata": {},
   "outputs": [
    {
     "name": "stdout",
     "output_type": "stream",
     "text": [
      "fusion : {9788806222093: {'auteur': 'Victor Hugo', 'titre': 'Les misérables', 'nombre': 5}, 9780671201821: {'auteur': 'Robert Merle', 'titre': 'Un animal doué de raison', 'nombre': 6}, 9783518399989: {'auteur': 'Alain Fournier', 'titre': 'Le grand Meaulnes', 'nombre': 1}, 9782072864537: {'auteur': 'Victor Hugo', 'titre': 'Notre dame de Paris', 'nombre': 4}, 9781976166471: {'auteur': 'Victor Hugo', 'titre': 'Notre dame de Paris', 'nombre': 3}, 9782070518425: {'auteur': 'J.K. Rowling', 'titre': \"Harry Potter à l'école des sorciers\", 'nombre': 3}, 9782070643059: {'auteur': 'J.K. Rowling', 'titre': 'Harry Potter et la coupe de feu', 'nombre': 10}, 9782070556854: {'auteur': 'J.K. Rowling', 'titre': \"Harry Potter et l'Ordre du phénix\", 'nombre': 7}, 9782070615360: {'auteur': 'J.K. Rowling', 'titre': 'Harry Potter et les Reliques de la Mort', 'nombre': 7}}\n",
      "{'auteur': 'J.K. Rowling', 'titre': 'Harry Potter et la coupe de feu', 'nombre': 10}\n"
     ]
    }
   ],
   "source": [
    "#QUESTION 4:\n",
    "stock2={\n",
    "9782070643059: {'auteur':'J.K. Rowling','titre':\"Harry Potter et la coupe de feu\",'nombre': 10},\n",
    "9782070556854: {'auteur':'J.K. Rowling','titre':\"Harry Potter et l'Ordre du phénix\",'nombre': 7},\n",
    "9782070615360: {'auteur':'J.K. Rowling','titre':\"Harry Potter et les Reliques de la Mort\",'nombre': 7}\n",
    "\n",
    "}\n",
    "def fusion(b1,b2):\n",
    "    for cle in b2:\n",
    "        if cle not in b1:\n",
    "           b1[cle]=b2[cle]\n",
    "        else:\n",
    "            n1=b1[cle]['nombre']\n",
    "            n2=b2[cle]['nombre']\n",
    "            b1[cle]['nombre']=n1+n2\n",
    "    return b1\n",
    "# Test\n",
    "print(\"fusion :\",fusion(stock,stock2))\n",
    "print(stock[9782070643059])"
   ]
  },
  {
   "cell_type": "markdown",
   "metadata": {},
   "source": [
    "### EXERCICE 4###"
   ]
  },
  {
   "cell_type": "code",
   "execution_count": 32,
   "metadata": {},
   "outputs": [
    {
     "name": "stdout",
     "output_type": "stream",
     "text": [
      "['sept', 'un']\n"
     ]
    }
   ],
   "source": [
    "#QUESTION 1:\n",
    "#Dict_an_fr\n",
    "danfr={'one':'un','two':'deux','three':'trois','four':'quatre','five':'cinq','six':'six','seven':'sept'}\n",
    "#Dict_fr_al\n",
    "dfral={'un':'eins','deux':'zwei','trois':'drei','quatre':'vier','cinq':'fünf','six':'sechs','sept':'sieben'}\n",
    "def traduction(l,d):\n",
    "    list=[]\n",
    "    for mots in l:\n",
    "        list.append(d[mots])\n",
    "    return list\n",
    "print(traduction(['seven','one'],danfr))"
   ]
  },
  {
   "cell_type": "code",
   "execution_count": 33,
   "metadata": {},
   "outputs": [
    {
     "name": "stdout",
     "output_type": "stream",
     "text": [
      "{'un': 'one', 'deux': 'two', 'trois': 'three', 'quatre': 'four', 'cinq': 'five', 'six': 'six', 'sept': 'seven'}\n"
     ]
    }
   ],
   "source": [
    "#QUESTION 2:\n",
    "def inverse(d):\n",
    "    dico={}\n",
    "    for cle in d:\n",
    "        dico[d[cle]]=cle\n",
    "    return dico\n",
    "print(inverse(danfr))"
   ]
  },
  {
   "cell_type": "code",
   "execution_count": 34,
   "metadata": {},
   "outputs": [
    {
     "name": "stdout",
     "output_type": "stream",
     "text": [
      "{'one': 'eins', 'two': 'zwei', 'three': 'drei', 'four': 'vier', 'five': 'fünf', 'six': 'sechs', 'seven': 'sieben'}\n",
      "{'one': 'eins', 'two': 'zwei', 'three': 'drei', 'four': 'vier', 'five': 'fünf', 'six': 'sechs', 'seven': 'sieben'}\n"
     ]
    }
   ],
   "source": [
    "#QUESTION 3:\n",
    "def composition1(d1,d2):\n",
    "    dico={}\n",
    "    for mot1 in d1:\n",
    "        dico[mot1]=d2[d1[mot1]]\n",
    "    return dico\n",
    "print(composition1(danfr,dfral))\n",
    "#Par compréhension avec itération simultanée via la fonction zip\n",
    "def composition2(d1,d2):\n",
    "    return {c:v for c,v in zip(d1.keys(),d2.values())}\n",
    "print(composition2(danfr,dfral))"
   ]
  },
  {
   "cell_type": "markdown",
   "metadata": {},
   "source": [
    "### EXERCICE 5###"
   ]
  },
  {
   "cell_type": "code",
   "execution_count": 35,
   "metadata": {},
   "outputs": [
    {
     "name": "stdout",
     "output_type": "stream",
     "text": [
      "--- Indice d'un mot ---\n",
      "mot = KAYAK\n",
      "indice =  AAKKY\n"
     ]
    }
   ],
   "source": [
    "# Question 1\n",
    "def calculer_indice(mot):\n",
    "    \"\"\" Réordonne les lettres d'un mot par ordre alphabétique : c'est l'indice du mot \"\"\"\n",
    "    liste = list(mot)\n",
    "    liste2=sorted(liste)\n",
    "    indice=\" \"\n",
    "    for i in liste2:\n",
    "        indice =indice+i\n",
    "    return indice\n",
    "\n",
    "print(\"--- Indice d'un mot ---\")\n",
    "mot = \"KAYAK\"\n",
    "indice = calculer_indice(mot)\n",
    "print(\"mot =\",mot)\n",
    "print(\"indice =\",indice)"
   ]
  },
  {
   "cell_type": "code",
   "execution_count": 36,
   "metadata": {},
   "outputs": [
    {
     "name": "stdout",
     "output_type": "stream",
     "text": [
      "--- Test anagramme ---\n",
      "Les mots  PRIERES  et  RESPIRE\n",
      "Sont anagrammes ? True\n"
     ]
    }
   ],
   "source": [
    "# Question 2:\n",
    "\n",
    "def anagrammes(mot1,mot2):\n",
    "    \"\"\" Test si deux mots sont annagrammes\n",
    "    C'est exactemment tester si ils ont le même indice \"\"\"\n",
    "    indice1 = calculer_indice(mot1)\n",
    "    indice2 = calculer_indice(mot2)\n",
    "    if indice1 == indice2:\n",
    "        return True\n",
    "    else:\n",
    "        return False\n",
    "    \n",
    "print(\"--- Test anagramme ---\")\n",
    "mot1,mot2 = \"PRIERES\", \"RESPIRE\"\n",
    "print(\"Les mots \",mot1,\" et \",mot2)\n",
    "print(\"Sont anagrammes ?\",anagrammes(mot1,mot2))"
   ]
  },
  {
   "cell_type": "code",
   "execution_count": 37,
   "metadata": {},
   "outputs": [
    {
     "name": "stdout",
     "output_type": "stream",
     "text": [
      "--- Dico des indice d'une liste de mots ---\n",
      "liste = ['CRIME', 'COUCOU', 'PRIERES', 'MERCI', 'RESPIRE', 'REPRISE']\n",
      "dico = {' CEIMR': ['CRIME', 'MERCI'], ' CCOOUU': ['COUCOU'], ' EEIPRRS': ['PRIERES', 'RESPIRE', 'REPRISE']}\n"
     ]
    }
   ],
   "source": [
    "# Question 3:\n",
    "def dicoindice(liste):\n",
    "    \"\"\" Cosntruit le dictionnaire clé -> forme de la forme\n",
    "    indice -> valeur=[mot1,mot2,...] \"\"\"\n",
    "    dico = {}\n",
    "    for mot in liste:\n",
    "        indice = calculer_indice(mot)\n",
    "        if indice in dico:\n",
    "            dico[indice].append(mot)\n",
    "        else:\n",
    "            dico[indice] = [mot]\n",
    "    return dico\n",
    "\n",
    "print(\"--- Dico des indice d'une liste de mots ---\")\n",
    "liste = [\"CRIME\",\"COUCOU\",\"PRIERES\",\"MERCI\",\"RESPIRE\",\"REPRISE\"]\n",
    "dico = dicoindice(liste)\n",
    "print(\"liste =\",liste)\n",
    "print(\"dico =\",dico)"
   ]
  }
 ],
 "metadata": {
  "kernelspec": {
   "display_name": "Python 3",
   "language": "python",
   "name": "python3"
  },
  "language_info": {
   "codemirror_mode": {
    "name": "ipython",
    "version": 3
   },
   "file_extension": ".py",
   "mimetype": "text/x-python",
   "name": "python",
   "nbconvert_exporter": "python",
   "pygments_lexer": "ipython3",
   "version": "3.7.1"
  }
 },
 "nbformat": 4,
 "nbformat_minor": 2
}
