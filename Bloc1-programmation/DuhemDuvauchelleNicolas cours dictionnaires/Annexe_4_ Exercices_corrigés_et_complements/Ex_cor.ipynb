{
 "cells": [
  {
   "cell_type": "markdown",
   "metadata": {},
   "source": [
    "### EXERCICE 1###"
   ]
  },
  {
   "cell_type": "code",
   "execution_count": 1,
   "metadata": {},
   "outputs": [],
   "source": [
    "# coding: utf8\n",
    "'''Voici une proposition de correction pour les exercices ;\n",
    "Quand il y en a, les réponses de la console sont inscrites\n",
    "en commentaire après la commande'''\n",
    "\n",
    "#QUESTION: 1\n",
    "dico={\n",
    "'keyboard': 'clavier',\n",
    "'souris': 'mouse',\n",
    "'computer':'ordinateur' }"
   ]
  },
  {
   "cell_type": "markdown",
   "metadata": {},
   "source": [
    "##### tableau 2"
   ]
  },
  {
   "cell_type": "code",
   "execution_count": 2,
   "metadata": {},
   "outputs": [],
   "source": [
    "dico = {}\n",
    "dico['keyboard'] ='clavier'\n",
    "dico['mouse'] ='souris'\n",
    "dico['computer'] = 'ordinateur'"
   ]
  },
  {
   "cell_type": "markdown",
   "metadata": {},
   "source": [
    "##### tableau 1 & 3"
   ]
  },
  {
   "cell_type": "code",
   "execution_count": 3,
   "metadata": {},
   "outputs": [],
   "source": [
    "dico = {}\n",
    "dico['mouse'] ='souris'\n",
    "dico['keyboard'] ='clavier'\n",
    "dico['computer'] = 'ordinateur'"
   ]
  },
  {
   "cell_type": "markdown",
   "metadata": {},
   "source": [
    "##### tableau 1 & 3"
   ]
  },
  {
   "cell_type": "code",
   "execution_count": 4,
   "metadata": {},
   "outputs": [
    {
     "data": {
      "text/plain": [
       "{'France': 'Marseille', 'Allemagne': 'Berlin', 'Belgique': 'Bruxelles'}"
      ]
     },
     "execution_count": 4,
     "metadata": {},
     "output_type": "execute_result"
    }
   ],
   "source": [
    "#QUESTION:  2\n",
    "capitales={'France':'Paris','Allemagne':'Berlin','Belgique':'Bruxelles','France':'Marseille'}\n",
    "capitales"
   ]
  },
  {
   "cell_type": "code",
   "execution_count": 5,
   "metadata": {},
   "outputs": [
    {
     "name": "stdout",
     "output_type": "stream",
     "text": [
      "{'France': 'Paris', 'Suisse': 'Berne', 'Belgique': 'Bruxelles', 'Espagne': 'Madrid', 'Islande': 'Reykjavik'}\n"
     ]
    }
   ],
   "source": [
    "#QUESTION:  3\n",
    "capitaleseuro={'France':'Paris','Suisse':'Berne','Belgique':'Bruxelles','Espagne':'Madrid'}\n",
    "capitaleseuro['Islande']='Reykjavik'\n",
    "print(capitaleseuro)"
   ]
  },
  {
   "cell_type": "code",
   "execution_count": 6,
   "metadata": {},
   "outputs": [
    {
     "name": "stdout",
     "output_type": "stream",
     "text": [
      "5\n"
     ]
    }
   ],
   "source": [
    "print(len(capitaleseuro))"
   ]
  },
  {
   "cell_type": "code",
   "execution_count": 7,
   "metadata": {},
   "outputs": [
    {
     "name": "stdout",
     "output_type": "stream",
     "text": [
      "Paris\n"
     ]
    }
   ],
   "source": [
    "print(capitaleseuro['France'])"
   ]
  },
  {
   "cell_type": "code",
   "execution_count": 8,
   "metadata": {},
   "outputs": [
    {
     "name": "stdout",
     "output_type": "stream",
     "text": [
      "{'France': 'Paris', 'Suisse': 'Berne', 'Espagne': 'Madrid', 'Islande': 'Reykjavik'}\n"
     ]
    }
   ],
   "source": [
    "del(capitaleseuro['Belgique']) #supprime la clé 'Belgique'\n",
    "print(capitaleseuro)"
   ]
  },
  {
   "cell_type": "code",
   "execution_count": 9,
   "metadata": {},
   "outputs": [
    {
     "name": "stdout",
     "output_type": "stream",
     "text": [
      "['France', 'Suisse', 'Espagne', 'Islande']\n"
     ]
    }
   ],
   "source": [
    "print(list(capitaleseuro.keys()))"
   ]
  },
  {
   "cell_type": "code",
   "execution_count": 10,
   "metadata": {},
   "outputs": [
    {
     "ename": "KeyError",
     "evalue": "'Italie'",
     "output_type": "error",
     "traceback": [
      "\u001b[0;31m---------------------------------------------------------------------------\u001b[0m",
      "\u001b[0;31mKeyError\u001b[0m                                  Traceback (most recent call last)",
      "\u001b[0;32m<ipython-input-10-a727d9d6fa5c>\u001b[0m in \u001b[0;36m<module>\u001b[0;34m\u001b[0m\n\u001b[0;32m----> 1\u001b[0;31m \u001b[0mprint\u001b[0m\u001b[0;34m(\u001b[0m\u001b[0mcapitaleseuro\u001b[0m\u001b[0;34m[\u001b[0m\u001b[0;34m'Italie'\u001b[0m\u001b[0;34m]\u001b[0m\u001b[0;34m)\u001b[0m\u001b[0;31m#KeyError car la clé n'existe pas\u001b[0m\u001b[0;34m\u001b[0m\u001b[0;34m\u001b[0m\u001b[0m\n\u001b[0m",
      "\u001b[0;31mKeyError\u001b[0m: 'Italie'"
     ]
    }
   ],
   "source": [
    "print(capitaleseuro['Italie'])#KeyError car la clé n'existe pas"
   ]
  },
  {
   "cell_type": "code",
   "execution_count": 11,
   "metadata": {},
   "outputs": [
    {
     "ename": "KeyError",
     "evalue": "0",
     "output_type": "error",
     "traceback": [
      "\u001b[0;31m---------------------------------------------------------------------------\u001b[0m",
      "\u001b[0;31mKeyError\u001b[0m                                  Traceback (most recent call last)",
      "\u001b[0;32m<ipython-input-11-bd62206bed4e>\u001b[0m in \u001b[0;36m<module>\u001b[0;34m\u001b[0m\n\u001b[0;32m----> 1\u001b[0;31m \u001b[0mprint\u001b[0m\u001b[0;34m(\u001b[0m\u001b[0mcapitaleseuro\u001b[0m\u001b[0;34m[\u001b[0m\u001b[0;36m0\u001b[0m\u001b[0;34m]\u001b[0m\u001b[0;34m)\u001b[0m\u001b[0;31m#KeyError car la clé n'existe pas\u001b[0m\u001b[0;34m\u001b[0m\u001b[0;34m\u001b[0m\u001b[0m\n\u001b[0m",
      "\u001b[0;31mKeyError\u001b[0m: 0"
     ]
    }
   ],
   "source": [
    "print(capitaleseuro[0])#KeyError car la clé n'existe pas"
   ]
  },
  {
   "cell_type": "markdown",
   "metadata": {},
   "source": [
    "### EXERCICE 2###"
   ]
  },
  {
   "cell_type": "code",
   "execution_count": 12,
   "metadata": {},
   "outputs": [],
   "source": [
    "#QUESTION: 1\n",
    "valise={\"Pantalon\":3,\"Cravate\":0,\"Chemise\":2,\"T-Shirt\":5,\"Caleçon\":7,\"pull\":3,\"paire de chaussettes\":7}"
   ]
  },
  {
   "cell_type": "markdown",
   "metadata": {},
   "source": [
    "##### __valise__ possède la structure d'un dictionnaire en python."
   ]
  },
  {
   "cell_type": "code",
   "execution_count": 13,
   "metadata": {},
   "outputs": [
    {
     "data": {
      "text/plain": [
       "0"
      ]
     },
     "execution_count": 13,
     "metadata": {},
     "output_type": "execute_result"
    }
   ],
   "source": [
    "#QUESTION:  2\n",
    "valise['Cravate']"
   ]
  },
  {
   "cell_type": "code",
   "execution_count": 14,
   "metadata": {},
   "outputs": [],
   "source": [
    "#QUESTION:  3\n",
    "valise['Chapeau']=1"
   ]
  },
  {
   "cell_type": "code",
   "execution_count": 15,
   "metadata": {},
   "outputs": [],
   "source": [
    "#QUESTION:  4\n",
    "del valise['Cravate']"
   ]
  },
  {
   "cell_type": "code",
   "execution_count": 16,
   "metadata": {},
   "outputs": [
    {
     "data": {
      "text/plain": [
       "{'Pantalon': 6,\n",
       " 'Chemise': 4,\n",
       " 'T-Shirt': 10,\n",
       " 'Caleçon': 14,\n",
       " 'pull': 6,\n",
       " 'paire de chaussettes': 14,\n",
       " 'Chapeau': 2}"
      ]
     },
     "execution_count": 16,
     "metadata": {},
     "output_type": "execute_result"
    }
   ],
   "source": [
    "#QUESTION:  5\n",
    "valise={k: 2*v for k,v in valise.items()}\n",
    "valise"
   ]
  },
  {
   "cell_type": "markdown",
   "metadata": {},
   "source": [
    "### EXERCICE 3###"
   ]
  },
  {
   "cell_type": "code",
   "execution_count": 17,
   "metadata": {},
   "outputs": [
    {
     "name": "stdout",
     "output_type": "stream",
     "text": [
      "pommes / 430; bananes / 312; oranges / -274; "
     ]
    }
   ],
   "source": [
    "#QUESTION: 1\n",
    "def affiche(d):\n",
    "    for i in d:\n",
    "        print(i,'/',d[i],end='; ')\n",
    "affiche({'pommes': 430, 'bananes': 312, 'oranges' : -274})"
   ]
  },
  {
   "cell_type": "code",
   "execution_count": 18,
   "metadata": {},
   "outputs": [
    {
     "name": "stdout",
     "output_type": "stream",
     "text": [
      "pommes / 430; "
     ]
    }
   ],
   "source": [
    "#QUESTION: 2\n",
    "def test(d,v):\n",
    "    for i in d:\n",
    "        if d[i]>=v:\n",
    "            print(i,'/',d[i],end='; ')\n",
    "test({'pommes': 430, 'bananes': 312, 'oranges' : -274},350)"
   ]
  },
  {
   "cell_type": "markdown",
   "metadata": {},
   "source": [
    "### EXERCICE 4###"
   ]
  },
  {
   "cell_type": "code",
   "execution_count": 19,
   "metadata": {},
   "outputs": [],
   "source": [
    "#QUESTION: 1\n",
    "base_prix={'clavier':38.99,'souris':11.59,'ecran':125.0,\n",
    "           'tour':379.89,'casque':17.84,'casque':350.59,'cle_usb':16.99}"
   ]
  },
  {
   "cell_type": "code",
   "execution_count": 20,
   "metadata": {},
   "outputs": [
    {
     "name": "stdout",
     "output_type": "stream",
     "text": [
      "True\n"
     ]
    }
   ],
   "source": [
    "#QUESTION: 2\n",
    "def disponibilite(b,produit):\n",
    "    return produit in b\n",
    "print(disponibilite(base_prix,'souris'))"
   ]
  },
  {
   "cell_type": "code",
   "execution_count": 21,
   "metadata": {},
   "outputs": [
    {
     "name": "stdout",
     "output_type": "stream",
     "text": [
      "153.84166666666667\n"
     ]
    }
   ],
   "source": [
    "#QUESTION: 3\n",
    "def prix_moyen(b):\n",
    "    somme=0\n",
    "    for prix in b.values():\n",
    "        somme=somme+prix\n",
    "    return somme/len(b)\n",
    "print(prix_moyen(base_prix))"
   ]
  },
  {
   "cell_type": "code",
   "execution_count": 22,
   "metadata": {},
   "outputs": [
    {
     "name": "stdout",
     "output_type": "stream",
     "text": [
      "clavier 38.99\n",
      "ecran 125.0\n",
      "cle_usb 16.99\n"
     ]
    }
   ],
   "source": [
    "#QUESTION: 4\n",
    "#version 1: Parcours sur les clés\n",
    "def fourchette_prix(mini,maxi,b):\n",
    "    for p in b:\n",
    "        if b[p]>=mini and b[p]<=maxi:\n",
    "            print(p,b[p])\n",
    "fourchette_prix(15,150,base_prix)"
   ]
  },
  {
   "cell_type": "code",
   "execution_count": 23,
   "metadata": {},
   "outputs": [
    {
     "name": "stdout",
     "output_type": "stream",
     "text": [
      "clavier : 38.99; ecran : 125.0; cle_usb : 16.99; "
     ]
    }
   ],
   "source": [
    "#version 2 Parcours sur les clé et les valeurs avec la méthode .items()\n",
    "def fourchette_prix2(mini,maxi,b):\n",
    "    for produit,prix in b.items():\n",
    "        if prix>=mini and prix<=maxi:\n",
    "            print(produit,':',prix,end='; ')\n",
    "fourchette_prix2(15,150,base_prix)"
   ]
  },
  {
   "cell_type": "code",
   "execution_count": 24,
   "metadata": {},
   "outputs": [],
   "source": [
    "#QUESTION: 5\n",
    "panier={'clavier':1,'souris':1,'cle_usb':3}"
   ]
  },
  {
   "cell_type": "code",
   "execution_count": 25,
   "metadata": {},
   "outputs": [
    {
     "name": "stdout",
     "output_type": "stream",
     "text": [
      "True\n",
      "True\n"
     ]
    }
   ],
   "source": [
    "#QUESTION: 6\n",
    "#version 1\n",
    "def stock1(p,b):\n",
    "    d=True\n",
    "    for produit in p:\n",
    "        d=disponibilite(b,produit) and d\n",
    "    return d\n",
    "#version 2\n",
    "def stock2(p,b):\n",
    "    for produit in p:\n",
    "        if not disponibilite(b,produit):\n",
    "            return False\n",
    "    return True\n",
    "print(stock1(panier,base_prix))\n",
    "print(stock2(panier,base_prix))"
   ]
  },
  {
   "cell_type": "code",
   "execution_count": 26,
   "metadata": {},
   "outputs": [
    {
     "name": "stdout",
     "output_type": "stream",
     "text": [
      "False\n",
      "False\n"
     ]
    }
   ],
   "source": [
    "print(stock1({'cafetiere':1},base_prix))\n",
    "print(stock2({'cafetiere':1},base_prix))"
   ]
  },
  {
   "cell_type": "code",
   "execution_count": 27,
   "metadata": {},
   "outputs": [
    {
     "name": "stdout",
     "output_type": "stream",
     "text": [
      "67.57\n"
     ]
    }
   ],
   "source": [
    "#QUESTION: 7\n",
    "def facture(p,b):\n",
    "    f=0\n",
    "    for  produit in p:\n",
    "        f=b[produit]+f\n",
    "    return f\n",
    "print(facture(panier,base_prix))"
   ]
  },
  {
   "cell_type": "markdown",
   "metadata": {},
   "source": [
    "### EXERCICE 5###"
   ]
  },
  {
   "cell_type": "code",
   "execution_count": 28,
   "metadata": {},
   "outputs": [],
   "source": [
    "Liste=[2,5,12,31,2,17,31,42,2]\n",
    "Dico={'xx':'bli','yzy':'blo','cuicui':'toutou','miaou':'toutou'}"
   ]
  },
  {
   "cell_type": "code",
   "execution_count": 29,
   "metadata": {},
   "outputs": [
    {
     "name": "stdout",
     "output_type": "stream",
     "text": [
      "[('xx', 'bli'), ('yzy', 'blo'), ('cuicui', 'toutou'), ('miaou', 'toutou')]\n"
     ]
    }
   ],
   "source": [
    "expression1=[(k,Dico[k]) for k in Dico ]\n",
    "print(expression1)"
   ]
  },
  {
   "cell_type": "code",
   "execution_count": 30,
   "metadata": {},
   "outputs": [
    {
     "name": "stdout",
     "output_type": "stream",
     "text": [
      "[('xx', 'bli'), ('yzy', 'blo'), ('cuicui', 'toutou'), ('miaou', 'toutou')]\n"
     ]
    }
   ],
   "source": [
    "expression2=[(k,v) for (k,v) in Dico.items() ]\n",
    "print(expression2)"
   ]
  },
  {
   "cell_type": "code",
   "execution_count": 31,
   "metadata": {},
   "outputs": [
    {
     "name": "stdout",
     "output_type": "stream",
     "text": [
      "['bli', 'blo', 'toutou', 'toutou']\n"
     ]
    }
   ],
   "source": [
    "expression3=[Dico[k] for k in Dico ]\n",
    "print(expression3)"
   ]
  },
  {
   "cell_type": "code",
   "execution_count": 32,
   "metadata": {},
   "outputs": [
    {
     "name": "stdout",
     "output_type": "stream",
     "text": [
      "['bli', 'blo', 'toutou', 'toutou']\n"
     ]
    }
   ],
   "source": [
    "expression4=[v for (k,v) in Dico.items() ]\n",
    "print(expression4)"
   ]
  },
  {
   "cell_type": "code",
   "execution_count": 33,
   "metadata": {},
   "outputs": [
    {
     "name": "stdout",
     "output_type": "stream",
     "text": [
      "{'xx': 'bli', 'yzy': 'blo', 'cuicui': 'toutou', 'miaou': 'toutou'}\n"
     ]
    }
   ],
   "source": [
    "expression5={ k:Dico[k] for k in Dico }\n",
    "print(expression5)"
   ]
  },
  {
   "cell_type": "code",
   "execution_count": 34,
   "metadata": {},
   "outputs": [
    {
     "name": "stdout",
     "output_type": "stream",
     "text": [
      "{'bli': 'xx', 'blo': 'yzy', 'toutou': 'miaou'}\n"
     ]
    }
   ],
   "source": [
    "expression6={ Dico[k]:k for k in Dico }\n",
    "print(expression6)"
   ]
  },
  {
   "cell_type": "code",
   "execution_count": 35,
   "metadata": {},
   "outputs": [
    {
     "name": "stdout",
     "output_type": "stream",
     "text": [
      "{'blibli': 'xx', 'bloblo': 'yzy', 'toutoutoutou': 'miaou'}\n"
     ]
    }
   ],
   "source": [
    "expression7={ (v+v):k for (k,v) in Dico.items() }\n",
    "print(expression7)"
   ]
  },
  {
   "cell_type": "markdown",
   "metadata": {},
   "source": [
    "### EXERCICE 6###"
   ]
  },
  {
   "cell_type": "code",
   "execution_count": 36,
   "metadata": {},
   "outputs": [
    {
     "name": "stdout",
     "output_type": "stream",
     "text": [
      "2\n"
     ]
    }
   ],
   "source": [
    "#QUESTION:  1 a\n",
    "D1={'LouLouCMoi': {'nom':'Lou','mdp':'3juillet2005@!','date':'16/12/2018' },\n",
    "'oznE': {'nom':'Enzo','mdp':'Mbappe78','date':'23/2/2019'}}\n",
    "print(len(D1))"
   ]
  },
  {
   "cell_type": "code",
   "execution_count": 37,
   "metadata": {},
   "outputs": [
    {
     "name": "stdout",
     "output_type": "stream",
     "text": [
      "Bonjour Lou. Quoi de neuf depuis le 16/12/2018 ?\n"
     ]
    }
   ],
   "source": [
    "#QUESTION:  1 b\n",
    "def auth(d,login,mdp):\n",
    "    if login not in d.keys():\n",
    "        return \"Identifiant Inconnu, veuillez creer un compte\"\n",
    "    elif d[login]['mdp']!=mdp:\n",
    "        return \"Mot de Passe INCORRECT\"\n",
    "    else :\n",
    "        return \"Bonjour \"+d[login]['nom']+\". Quoi de neuf depuis le \"+ d[login]['date'] +\" ?\"\n",
    "print(auth(D1,'LouLouCMoi','3juillet2005@!'))"
   ]
  },
  {
   "cell_type": "code",
   "execution_count": 38,
   "metadata": {},
   "outputs": [
    {
     "name": "stdout",
     "output_type": "stream",
     "text": [
      "Mot de Passe INCORRECT\n"
     ]
    }
   ],
   "source": [
    "print(auth(D1,'oznE','Neymar!!!'))"
   ]
  },
  {
   "cell_type": "code",
   "execution_count": 39,
   "metadata": {},
   "outputs": [
    {
     "name": "stdout",
     "output_type": "stream",
     "text": [
      "Identifiant Inconnu, veuillez creer un compte\n"
     ]
    }
   ],
   "source": [
    "print(auth(D1,'Try','to_hack_this!!!'))"
   ]
  },
  {
   "cell_type": "code",
   "execution_count": 40,
   "metadata": {},
   "outputs": [
    {
     "name": "stdout",
     "output_type": "stream",
     "text": [
      "3juillet2005@!\n"
     ]
    }
   ],
   "source": [
    "#QUESTION:  2\n",
    "print(D1 ['LouLouCMoi'] ['mdp'])"
   ]
  },
  {
   "cell_type": "code",
   "execution_count": 41,
   "metadata": {},
   "outputs": [
    {
     "name": "stdout",
     "output_type": "stream",
     "text": [
      "{'LouLouCMoi': {'nom': 'Lou', 'mdp': '3juillet2005@!', 'date': '16/12/2018'}, 'oznE': {'nom': 'Enzo', 'mdp': 'Mbappe78', 'date': '23/2/2019'}, 'the_brat': {'nom': 'Patrice', 'mdp': 'n3wforc3', 'date': '22/06/2019'}}\n",
      "Login existant, veuillez choisir un autre identifiant\n"
     ]
    }
   ],
   "source": [
    "#QUESTION:  3\n",
    "def creation(d,login,mdp,nom):\n",
    "    #aujourdhui=jour()*******Appel d'une fonction fictive jour()\n",
    "    if login in d.keys():\n",
    "        return \"Login existant, veuillez choisir un autre identifiant\"\n",
    "        #d[login]={'nom':nom,'mdp':mdp,'date':aujourdhui}\n",
    "    else :\n",
    "        d[login]={'nom':nom,'mdp':mdp,'date':'22/06/2019'}\n",
    "    return d\n",
    "print(creation(D1,'the_brat','n3wforc3','Patrice'))\n",
    "print(creation(D1,'the_brat','n3wforc3','Patrice'))"
   ]
  }
 ],
 "metadata": {
  "kernelspec": {
   "display_name": "Python 3",
   "language": "python",
   "name": "python3"
  },
  "language_info": {
   "codemirror_mode": {
    "name": "ipython",
    "version": 3
   },
   "file_extension": ".py",
   "mimetype": "text/x-python",
   "name": "python",
   "nbconvert_exporter": "python",
   "pygments_lexer": "ipython3",
   "version": "3.7.1"
  }
 },
 "nbformat": 4,
 "nbformat_minor": 2
}
